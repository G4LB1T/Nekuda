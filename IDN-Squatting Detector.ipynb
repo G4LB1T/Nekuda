{
 "cells": [
  {
   "cell_type": "code",
   "execution_count": 1,
   "metadata": {
    "id": "2ew1rGzhDPhi"
   },
   "outputs": [],
   "source": [
    "import requests\n",
    "import pandas as pd\n",
    "import os\n",
    "import whois\n",
    "import dns.resolver\n",
    "import six\n",
    "from google.cloud import translate_v2 as translate"
   ]
  },
  {
   "cell_type": "code",
   "execution_count": 23,
   "metadata": {},
   "outputs": [],
   "source": [
    "# Google Cloud Trnslation service API keys\n",
    "os.environ[\"GOOGLE_APPLICATION_CREDENTIALS\"]='ENTER_YOUR_JSON_FILENAME_HERE'"
   ]
  },
  {
   "cell_type": "code",
   "execution_count": 3,
   "metadata": {
    "id": "aWJq5-GQDWvC"
   },
   "outputs": [],
   "source": [
    "# wrappers for simplifying the application of punycode-related lambda experessions to dataframes\n",
    "def puny(s):\n",
    "    return s.encode('idna').decode()\n",
    " \n",
    "def unpuny(s):\n",
    "    return str(s).lower().encode('idna').decode('idna')"
   ]
  },
  {
   "cell_type": "code",
   "execution_count": 4,
   "metadata": {},
   "outputs": [],
   "source": [
    "def get_all_tlds():\n",
    "    \"\"\" Gets all of the IDN TLDs\n",
    "\n",
    "    Retrieves a dynamic list from IANA's website\n",
    "    \"\"\"\n",
    "    res = requests.get('https://data.iana.org/TLD/tlds-alpha-by-domain.txt')\n",
    "    all_tlds = res.text.split('\\n')\n",
    "    # Filter only punycode TLDs\n",
    "    return (list(filter(lambda tld: 'XN--' in tld, all_tlds)))"
   ]
  },
  {
   "cell_type": "code",
   "execution_count": 5,
   "metadata": {
    "id": "CCuNtKsfDbND"
   },
   "outputs": [],
   "source": [
    "# get all the current TLDs then use it to initialize the dataframe\n",
    "idn_tld_puny_list = get_all_tlds()\n",
    "df = pd.DataFrame(idn_tld_puny_list, columns=['punycode'])\n",
    "# add non-ascii representation\n",
    "df['unpunycode'] = df.punycode.map(unpuny)"
   ]
  },
  {
   "cell_type": "code",
   "execution_count": 6,
   "metadata": {
    "id": "lV0z8AjGD2lH"
   },
   "outputs": [],
   "source": [
    "def translate_text(target, text):\n",
    "    \"\"\"Translates text into the target language.\n",
    "\n",
    "    Target must be an ISO 639-1 language code.\n",
    "    See https://g.co/cloud/translate/v2/translate-reference#supported_languages\n",
    "    \"\"\"\n",
    "\n",
    "    translate_client = translate.Client()\n",
    "\n",
    "    if isinstance(text, six.binary_type):\n",
    "        text = text.decode(\"utf-8\")\n",
    "\n",
    "    # Text can also be a sequence of strings, in which case this method\n",
    "    # will return a sequence of results for each text.\n",
    "    result = translate_client.translate(text, target_language=target)\n",
    "    \n",
    "    return(result)"
   ]
  },
  {
   "cell_type": "code",
   "execution_count": 7,
   "metadata": {
    "colab": {
     "base_uri": "https://localhost:8080/"
    },
    "id": "Mcne1E1OD7Q3",
    "outputId": "59a19448-31a9-43d3-f3e6-43e09a7c2e1e"
   },
   "outputs": [],
   "source": [
    "# Translate the TLD to English\n",
    "df['full_res'] = df.unpunycode.map(lambda x : translate_text('en-us', x))"
   ]
  },
  {
   "cell_type": "code",
   "execution_count": 8,
   "metadata": {
    "colab": {
     "base_uri": "https://localhost:8080/"
    },
    "id": "EC4pHdOZLCrm",
    "outputId": "ab7ef3e2-c7be-4f65-c890-1359aa8b0f3a"
   },
   "outputs": [],
   "source": [
    "# do some pandas tricks to split the raw content to separate cols\n",
    "df['src_lang_code'] = df['full_res']\n",
    "df['detectedSourceLanguage'] = df['full_res'].map(lambda x : x['detectedSourceLanguage'])\n",
    "df['translatedText'] = df['full_res'].map(lambda x : x['translatedText'])"
   ]
  },
  {
   "cell_type": "code",
   "execution_count": 9,
   "metadata": {
    "colab": {
     "base_uri": "https://localhost:8080/"
    },
    "id": "EC4pHdOZLCrm",
    "outputId": "ab7ef3e2-c7be-4f65-c890-1359aa8b0f3a"
   },
   "outputs": [],
   "source": [
    "# cleanup of internal state column leftovers\n",
    "df = df.drop(['full_res', 'src_lang_code'], axis=1)"
   ]
  },
  {
   "cell_type": "code",
   "execution_count": 10,
   "metadata": {
    "colab": {
     "base_uri": "https://localhost:8080/"
    },
    "id": "KlxKcAQzOrgB",
    "outputId": "d21f28bc-4a89-4912-ff6f-b6d9ede3181f"
   },
   "outputs": [],
   "source": [
    "def get_word_in_all_langs(word, lang_codes):\n",
    "    \"\"\"\n",
    "    Construct a dictionary - translate the keyword to any of the lang_codes\n",
    "    \"\"\"\n",
    "    word_lang_dic = {}\n",
    "    for lang in lang_codes:\n",
    "        res = translate_text(lang, word)\n",
    "        word_lang_dic[lang] = res['translatedText']\n",
    "    return word_lang_dic  "
   ]
  },
  {
   "cell_type": "code",
   "execution_count": 11,
   "metadata": {
    "id": "S8bPNtunNk_C"
   },
   "outputs": [],
   "source": [
    "# Aggregate a list of all the distinct lang codes\n",
    "lang_codes = df.detectedSourceLanguage.unique()"
   ]
  },
  {
   "cell_type": "code",
   "execution_count": 12,
   "metadata": {
    "colab": {
     "base_uri": "https://localhost:8080/"
    },
    "id": "UF2CB4vUO8eh",
    "outputId": "2e3adcce-84e8-4f9c-cf0c-0c7682a422c6"
   },
   "outputs": [],
   "source": [
    "# Get the translations for the target, in this case, Microsoft\n",
    "idn_squatting_target = 'Microsoft'\n",
    "word_in_other_langs = get_word_in_all_langs(idn_squatting_target, lang_codes)"
   ]
  },
  {
   "cell_type": "code",
   "execution_count": 13,
   "metadata": {
    "id": "JWBsSmXgR7Ki"
   },
   "outputs": [],
   "source": [
    "# Put the translated target in the appropriate row\n",
    "df['translated_target'] = df['detectedSourceLanguage'].map(lambda x : word_in_other_langs[x].replace(' ', ''))"
   ]
  },
  {
   "cell_type": "code",
   "execution_count": 14,
   "metadata": {
    "id": "ig23Qbw4VdyH"
   },
   "outputs": [],
   "source": [
    "# Construct the targeted domain\n",
    "df['domain_to_register'] = df.translated_target + '.' + df.unpunycode\n",
    "\n",
    "# check and mark failed translation attempts\n",
    "df['domain_to_register'] = df['domain_to_register'].map(lambda x : 'translation failure' if idn_squatting_target in x else x)\n",
    "\n",
    "# display also the punycode representation of the website \n",
    "df['domain_to_register_punycode'] = df.domain_to_register.map(puny)"
   ]
  },
  {
   "cell_type": "code",
   "execution_count": 22,
   "metadata": {},
   "outputs": [],
   "source": [
    "def is_whois_exists(domain_name):\n",
    "    \"\"\"\n",
    "    Return True iff domain_name has associated WHOIS records\n",
    "    \"\"\"\n",
    "    try:\n",
    "        w = whois.whois(domain_name)\n",
    "    except Exception:\n",
    "        return False\n",
    "    else:\n",
    "        return bool(w.domain_name)\n",
    "    \n",
    "def is_dns_exists(domain_name):\n",
    "    \"\"\"\n",
    "    Return True iff domain_name has associated DNS records\n",
    "    \"\"\"\n",
    "    try:\n",
    "        r = dns.resolver.Resolver()\n",
    "        # 8.8.8.8 is Google's public DNS server\n",
    "        r.nameservers = ['8.8.8.8']\n",
    "        \n",
    "        result = r.resolve(domain_name, 'NS')\n",
    "    except dns.resolver.NXDOMAIN:\n",
    "        return False\n",
    "    except dns.resolver.NoAnswer:\n",
    "        return False\n",
    "    except dns.resolver.NoNameservers:\n",
    "        return True\n",
    "    except Exception as e:\n",
    "        print(f'Unhandled exception for {domain_name}')\n",
    "        print(f'str(e)\\n')\n",
    "    else: \n",
    "        return bool(result)\n",
    "\n",
    "def check_domain_avail(domain_to_check):\n",
    "    \"\"\" \n",
    "    Wrapping function for two different domain availability tests\n",
    "    Return true iff the domain is available, i.e. there are *no* records\n",
    "    \"\"\"\n",
    "    \n",
    "    if is_dns_exists(domain_to_check) or is_whois_exists(domain_to_check):\n",
    "        return False\n",
    "    else:\n",
    "        return True"
   ]
  },
  {
   "cell_type": "code",
   "execution_count": 17,
   "metadata": {},
   "outputs": [
    {
     "name": "stdout",
     "output_type": "stream",
     "text": [
      "Unhandled for xn--mgbaj0ak9fxa0a58f8j.xn--mgbab2bd\n",
      "The resolution lifetime expired after 5.405 seconds: Server 8.8.8.8 UDP port 53 answered The DNS operation timed out.; Server 8.8.8.8 UDP port 53 answered The DNS operation timed out.; Server 8.8.8.8 UDP port 53 answered The DNS operation timed out.\n",
      "Unhandled for xn--lgbbb3bk9fwa1a85bjpmm.xn--mgbai9azgqp6j\n",
      "The resolution lifetime expired after 5.405 seconds: Server 8.8.8.8 UDP port 53 answered The DNS operation timed out.; Server 8.8.8.8 UDP port 53 answered The DNS operation timed out.; Server 8.8.8.8 UDP port 53 answered The DNS operation timed out.\n"
     ]
    }
   ],
   "source": [
    "df['domainAvailability'] = df.domain_to_register_punycode.map(check_domain_avail)"
   ]
  },
  {
   "cell_type": "code",
   "execution_count": 18,
   "metadata": {},
   "outputs": [],
   "source": [
    "def check_tld_registerable(tld):\n",
    "    \"\"\"Placeholder for future implementation, should verify whether a TLD is actually open for registration\n",
    "    \"\"\"\n",
    "    return '//TODO'\n",
    "\n",
    "# df['tld_registerable'] = df.punycode.map(check_tld_registerable)"
   ]
  },
  {
   "cell_type": "code",
   "execution_count": 19,
   "metadata": {
    "id": "zoLA1Dj9jgr4"
   },
   "outputs": [],
   "source": [
    "# export a loadable copy of the dataframe\n",
    "df.to_excel(r'nekuda.xlsx', index=False)"
   ]
  },
  {
   "cell_type": "code",
   "execution_count": 20,
   "metadata": {},
   "outputs": [
    {
     "data": {
      "text/html": [
       "<div>\n",
       "<style scoped>\n",
       "    .dataframe tbody tr th:only-of-type {\n",
       "        vertical-align: middle;\n",
       "    }\n",
       "\n",
       "    .dataframe tbody tr th {\n",
       "        vertical-align: top;\n",
       "    }\n",
       "\n",
       "    .dataframe thead th {\n",
       "        text-align: right;\n",
       "    }\n",
       "</style>\n",
       "<table border=\"1\" class=\"dataframe\">\n",
       "  <thead>\n",
       "    <tr style=\"text-align: right;\">\n",
       "      <th></th>\n",
       "      <th>punycode</th>\n",
       "      <th>unpunycode</th>\n",
       "      <th>detectedSourceLanguage</th>\n",
       "      <th>translatedText</th>\n",
       "      <th>translated_target</th>\n",
       "      <th>domain_to_register</th>\n",
       "      <th>domain_to_register_punycode</th>\n",
       "      <th>domainAvailability</th>\n",
       "    </tr>\n",
       "  </thead>\n",
       "  <tbody>\n",
       "    <tr>\n",
       "      <th>0</th>\n",
       "      <td>XN--11B4C3D</td>\n",
       "      <td>कॉम</td>\n",
       "      <td>hi</td>\n",
       "      <td>com</td>\n",
       "      <td>माइक्रोसॉफ्ट</td>\n",
       "      <td>माइक्रोसॉफ्ट.कॉम</td>\n",
       "      <td>xn--n1b2a4a9bmo0d2bzgsauf.xn--11b4c3d</td>\n",
       "      <td>True</td>\n",
       "    </tr>\n",
       "    <tr>\n",
       "      <th>1</th>\n",
       "      <td>XN--1CK2E1B</td>\n",
       "      <td>セール</td>\n",
       "      <td>ja</td>\n",
       "      <td>Sale</td>\n",
       "      <td>マイクロソフト</td>\n",
       "      <td>マイクロソフト.セール</td>\n",
       "      <td>xn--eckwa6b3bwd6b6f.xn--1ck2e1b</td>\n",
       "      <td>True</td>\n",
       "    </tr>\n",
       "    <tr>\n",
       "      <th>2</th>\n",
       "      <td>XN--1QQW23A</td>\n",
       "      <td>佛山</td>\n",
       "      <td>zh-CN</td>\n",
       "      <td>Foshan</td>\n",
       "      <td>微软</td>\n",
       "      <td>微软.佛山</td>\n",
       "      <td>xn--g5ty67h.xn--1qqw23a</td>\n",
       "      <td>True</td>\n",
       "    </tr>\n",
       "    <tr>\n",
       "      <th>3</th>\n",
       "      <td>XN--2SCRJ9C</td>\n",
       "      <td>ಭಾರತ</td>\n",
       "      <td>kn</td>\n",
       "      <td>India</td>\n",
       "      <td>ಮೈಕ್ರೋಸಾಫ್ಟ್</td>\n",
       "      <td>ಮೈಕ್ರೋಸಾಫ್ಟ್.ಭಾರತ</td>\n",
       "      <td>xn--nscu9akl2c1bye3asfb.xn--2scrj9c</td>\n",
       "      <td>True</td>\n",
       "    </tr>\n",
       "    <tr>\n",
       "      <th>4</th>\n",
       "      <td>XN--30RR7Y</td>\n",
       "      <td>慈善</td>\n",
       "      <td>zh-CN</td>\n",
       "      <td>charitable</td>\n",
       "      <td>微软</td>\n",
       "      <td>微软.慈善</td>\n",
       "      <td>xn--g5ty67h.xn--30rr7y</td>\n",
       "      <td>True</td>\n",
       "    </tr>\n",
       "    <tr>\n",
       "      <th>5</th>\n",
       "      <td>XN--3BST00M</td>\n",
       "      <td>集团</td>\n",
       "      <td>zh-CN</td>\n",
       "      <td>group</td>\n",
       "      <td>微软</td>\n",
       "      <td>微软.集团</td>\n",
       "      <td>xn--g5ty67h.xn--3bst00m</td>\n",
       "      <td>True</td>\n",
       "    </tr>\n",
       "    <tr>\n",
       "      <th>6</th>\n",
       "      <td>XN--3DS443G</td>\n",
       "      <td>在线</td>\n",
       "      <td>zh-CN</td>\n",
       "      <td>online</td>\n",
       "      <td>微软</td>\n",
       "      <td>微软.在线</td>\n",
       "      <td>xn--g5ty67h.xn--3ds443g</td>\n",
       "      <td>False</td>\n",
       "    </tr>\n",
       "    <tr>\n",
       "      <th>7</th>\n",
       "      <td>XN--3E0B707E</td>\n",
       "      <td>한국</td>\n",
       "      <td>ko</td>\n",
       "      <td>korea</td>\n",
       "      <td>마이크로소프트</td>\n",
       "      <td>마이크로소프트.한국</td>\n",
       "      <td>xn--2o2b1zp4o0qg9pm4kdu7e.xn--3e0b707e</td>\n",
       "      <td>False</td>\n",
       "    </tr>\n",
       "    <tr>\n",
       "      <th>8</th>\n",
       "      <td>XN--3HCRJ9C</td>\n",
       "      <td>ଭାରତ</td>\n",
       "      <td>or</td>\n",
       "      <td>India</td>\n",
       "      <td>ମାଇକ୍ରୋସଫ୍ଟ|</td>\n",
       "      <td>ମାଇକ୍ରୋସଫ୍ଟ|.ଭାରତ</td>\n",
       "      <td>xn--|-9ne6bzb5cpq8d7b9huae.xn--3hcrj9c</td>\n",
       "      <td>True</td>\n",
       "    </tr>\n",
       "    <tr>\n",
       "      <th>9</th>\n",
       "      <td>XN--3PXU8K</td>\n",
       "      <td>点看</td>\n",
       "      <td>zh-CN</td>\n",
       "      <td>Click to see</td>\n",
       "      <td>微软</td>\n",
       "      <td>微软.点看</td>\n",
       "      <td>xn--g5ty67h.xn--3pxu8k</td>\n",
       "      <td>True</td>\n",
       "    </tr>\n",
       "  </tbody>\n",
       "</table>\n",
       "</div>"
      ],
      "text/plain": [
       "       punycode unpunycode detectedSourceLanguage translatedText  \\\n",
       "0   XN--11B4C3D        कॉम                     hi            com   \n",
       "1   XN--1CK2E1B        セール                     ja           Sale   \n",
       "2   XN--1QQW23A         佛山                  zh-CN         Foshan   \n",
       "3   XN--2SCRJ9C       ಭಾರತ                     kn          India   \n",
       "4    XN--30RR7Y         慈善                  zh-CN     charitable   \n",
       "5   XN--3BST00M         集团                  zh-CN          group   \n",
       "6   XN--3DS443G         在线                  zh-CN         online   \n",
       "7  XN--3E0B707E         한국                     ko          korea   \n",
       "8   XN--3HCRJ9C       ଭାରତ                     or          India   \n",
       "9    XN--3PXU8K         点看                  zh-CN   Click to see   \n",
       "\n",
       "  translated_target domain_to_register  \\\n",
       "0      माइक्रोसॉफ्ट   माइक्रोसॉफ्ट.कॉम   \n",
       "1           マイクロソフト        マイクロソフト.セール   \n",
       "2                微软              微软.佛山   \n",
       "3      ಮೈಕ್ರೋಸಾಫ್ಟ್  ಮೈಕ್ರೋಸಾಫ್ಟ್.ಭಾರತ   \n",
       "4                微软              微软.慈善   \n",
       "5                微软              微软.集团   \n",
       "6                微软              微软.在线   \n",
       "7           마이크로소프트         마이크로소프트.한국   \n",
       "8      ମାଇକ୍ରୋସଫ୍ଟ|  ମାଇକ୍ରୋସଫ୍ଟ|.ଭାରତ   \n",
       "9                微软              微软.点看   \n",
       "\n",
       "              domain_to_register_punycode  domainAvailability  \n",
       "0   xn--n1b2a4a9bmo0d2bzgsauf.xn--11b4c3d                True  \n",
       "1         xn--eckwa6b3bwd6b6f.xn--1ck2e1b                True  \n",
       "2                 xn--g5ty67h.xn--1qqw23a                True  \n",
       "3     xn--nscu9akl2c1bye3asfb.xn--2scrj9c                True  \n",
       "4                  xn--g5ty67h.xn--30rr7y                True  \n",
       "5                 xn--g5ty67h.xn--3bst00m                True  \n",
       "6                 xn--g5ty67h.xn--3ds443g               False  \n",
       "7  xn--2o2b1zp4o0qg9pm4kdu7e.xn--3e0b707e               False  \n",
       "8  xn--|-9ne6bzb5cpq8d7b9huae.xn--3hcrj9c                True  \n",
       "9                  xn--g5ty67h.xn--3pxu8k                True  "
      ]
     },
     "execution_count": 20,
     "metadata": {},
     "output_type": "execute_result"
    }
   ],
   "source": [
    "df.head(10)"
   ]
  },
  {
   "cell_type": "code",
   "execution_count": 21,
   "metadata": {},
   "outputs": [
    {
     "data": {
      "text/plain": [
       "domainAvailability\n",
       "True     132\n",
       "False     20\n",
       "Name: count, dtype: int64"
      ]
     },
     "execution_count": 21,
     "metadata": {},
     "output_type": "execute_result"
    }
   ],
   "source": [
    "# how many domains are taken ('False') vs. free ('True')?\n",
    "df.domainAvailability.value_counts()"
   ]
  },
  {
   "cell_type": "code",
   "execution_count": null,
   "metadata": {},
   "outputs": [],
   "source": []
  }
 ],
 "metadata": {
  "colab": {
   "provenance": []
  },
  "kernelspec": {
   "display_name": "Python 3 (ipykernel)",
   "language": "python",
   "name": "python3"
  },
  "language_info": {
   "codemirror_mode": {
    "name": "ipython",
    "version": 3
   },
   "file_extension": ".py",
   "mimetype": "text/x-python",
   "name": "python",
   "nbconvert_exporter": "python",
   "pygments_lexer": "ipython3",
   "version": "3.9.6"
  }
 },
 "nbformat": 4,
 "nbformat_minor": 4
}
