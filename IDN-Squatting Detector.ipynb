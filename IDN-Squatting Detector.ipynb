{
 "cells": [
  {
   "cell_type": "code",
   "execution_count": 26,
   "metadata": {
    "id": "2ew1rGzhDPhi"
   },
   "outputs": [],
   "source": [
    "import requests\n",
    "import pandas as pd\n",
    "import os\n",
    "import whois\n",
    "import dns.resolver\n",
    "import six\n",
    "from google.cloud import translate_v2 as translate"
   ]
  },
  {
   "cell_type": "code",
   "execution_count": 35,
   "metadata": {},
   "outputs": [],
   "source": [
    "# Google Cloud Trnslation service API keys\n",
    "os.environ[\"GOOGLE_APPLICATION_CREDENTIALS\"]='ENTER_YOUR_JSON_FILENAME_HERE'"
   ]
  },
  {
   "cell_type": "code",
   "execution_count": 3,
   "metadata": {
    "id": "aWJq5-GQDWvC"
   },
   "outputs": [],
   "source": [
    "# wrappers for simplfying the application of punycode-related lambda experessions to dataframes\n",
    "def puny(s):\n",
    "    return s.encode('idna').decode()\n",
    " \n",
    "def unpuny(s):\n",
    "    return str(s).lower().encode('idna').decode('idna')"
   ]
  },
  {
   "cell_type": "code",
   "execution_count": 4,
   "metadata": {},
   "outputs": [],
   "source": [
    "def get_all_tlds():\n",
    "    \"\"\" Gets all of the IDN TLDs\n",
    "\n",
    "    Retrieves a dynamic list from IANA's website\n",
    "    \"\"\"\n",
    "    res = requests.get('https://data.iana.org/TLD/tlds-alpha-by-domain.txt')\n",
    "    all_tlds = res.text.split('\\n')\n",
    "    # Filter only punycode TLDs\n",
    "    return (list(filter(lambda tld: 'XN--' in tld, all_tlds)))"
   ]
  },
  {
   "cell_type": "code",
   "execution_count": 6,
   "metadata": {
    "id": "CCuNtKsfDbND"
   },
   "outputs": [],
   "source": [
    "# get all the current TLDs then use it to initialize the dataframe\n",
    "idn_tld_puny_list = get_all_tlds()\n",
    "df = pd.DataFrame(idn_tld_puny_list, columns=['punycode'])\n",
    "# add non-ascii representation\n",
    "df['unpunycode'] = df.punycode.map(unpuny)"
   ]
  },
  {
   "cell_type": "code",
   "execution_count": 7,
   "metadata": {
    "id": "lV0z8AjGD2lH"
   },
   "outputs": [],
   "source": [
    "def translate_text(target, text):\n",
    "    \"\"\"Translates text into the target language.\n",
    "\n",
    "    Target must be an ISO 639-1 language code.\n",
    "    See https://g.co/cloud/translate/v2/translate-reference#supported_languages\n",
    "    \"\"\"\n",
    "\n",
    "    translate_client = translate.Client()\n",
    "\n",
    "    if isinstance(text, six.binary_type):\n",
    "        text = text.decode(\"utf-8\")\n",
    "\n",
    "    # Text can also be a sequence of strings, in which case this method\n",
    "    # will return a sequence of results for each text.\n",
    "    result = translate_client.translate(text, target_language=target)\n",
    "    \n",
    "    return(result)"
   ]
  },
  {
   "cell_type": "code",
   "execution_count": 8,
   "metadata": {
    "colab": {
     "base_uri": "https://localhost:8080/"
    },
    "id": "Mcne1E1OD7Q3",
    "outputId": "59a19448-31a9-43d3-f3e6-43e09a7c2e1e"
   },
   "outputs": [],
   "source": [
    "# Translate the TLD to English\n",
    "df['full_res'] = df.unpunycode.map(lambda x : translate_text('en-us', x))"
   ]
  },
  {
   "cell_type": "code",
   "execution_count": 9,
   "metadata": {
    "colab": {
     "base_uri": "https://localhost:8080/"
    },
    "id": "EC4pHdOZLCrm",
    "outputId": "ab7ef3e2-c7be-4f65-c890-1359aa8b0f3a"
   },
   "outputs": [],
   "source": [
    "# do some pandas tricks to split the raw content to separate cols\n",
    "df['src_lang_code'] = df['full_res']\n",
    "df['detectedSourceLanguage'] = df['full_res'].map(lambda x : x['detectedSourceLanguage'])\n",
    "df['translatedText'] = df['full_res'].map(lambda x : x['translatedText'])"
   ]
  },
  {
   "cell_type": "code",
   "execution_count": 10,
   "metadata": {
    "colab": {
     "base_uri": "https://localhost:8080/"
    },
    "id": "KlxKcAQzOrgB",
    "outputId": "d21f28bc-4a89-4912-ff6f-b6d9ede3181f"
   },
   "outputs": [],
   "source": [
    "def get_word_in_all_langs(word, lang_codes):\n",
    "    \"\"\"\n",
    "    Construct a dictionary - translate the keyword to any of the lang_codes\n",
    "    \"\"\"\n",
    "    word_lang_dic = {}\n",
    "    for lang in lang_codes:\n",
    "        res = translate_text(lang, word)\n",
    "        word_lang_dic[lang] = res['translatedText']\n",
    "    return word_lang_dic  "
   ]
  },
  {
   "cell_type": "code",
   "execution_count": 11,
   "metadata": {
    "id": "S8bPNtunNk_C"
   },
   "outputs": [],
   "source": [
    "# Aggregate a list of all the distinct lang codes\n",
    "lang_codes = df.detectedSourceLanguage.unique()"
   ]
  },
  {
   "cell_type": "code",
   "execution_count": 12,
   "metadata": {
    "colab": {
     "base_uri": "https://localhost:8080/"
    },
    "id": "UF2CB4vUO8eh",
    "outputId": "2e3adcce-84e8-4f9c-cf0c-0c7682a422c6"
   },
   "outputs": [],
   "source": [
    "# Get the translations for the target, in this case, Microsoft\n",
    "idn_squatting_target = 'Microsoft'\n",
    "word_in_other_langs = get_word_in_all_langs(idn_squatting_target, lang_codes)"
   ]
  },
  {
   "cell_type": "code",
   "execution_count": 13,
   "metadata": {
    "id": "JWBsSmXgR7Ki"
   },
   "outputs": [],
   "source": [
    "# Put the translated target in the appropriate row\n",
    "df['translated_target'] = df['detectedSourceLanguage'].map(lambda x : word_in_other_langs[x].replace(' ', ''))"
   ]
  },
  {
   "cell_type": "code",
   "execution_count": 14,
   "metadata": {
    "id": "ig23Qbw4VdyH"
   },
   "outputs": [],
   "source": [
    "# Construct the targeted domain\n",
    "df['domain_to_register'] = df.translated_target + '.' + df.unpunycode\n",
    "\n",
    "# check and mark failed translation attempts\n",
    "df['domain_to_register'] = df['domain_to_register'].map(lambda x : 'translation failure' if idn_squatting_target in x else x)\n",
    "\n",
    "# display also the punycode representation of the website \n",
    "df['domain_to_register_punycode'] = df.domain_to_register.map(puny)"
   ]
  },
  {
   "cell_type": "code",
   "execution_count": 29,
   "metadata": {},
   "outputs": [],
   "source": [
    "def is_whois_exists(domain_name):\n",
    "    \"\"\"\n",
    "    Return True iff domain_name has associated WHOIS records\n",
    "    \"\"\"\n",
    "    try:\n",
    "        w = whois.whois(domain_name)\n",
    "    except Exception:\n",
    "        return False\n",
    "    else:\n",
    "        return bool(w.domain_name)\n",
    "    \n",
    "def is_dns_exists(domain_name):\n",
    "    \"\"\"\n",
    "    Return True iff domain_name has associated DNS records\n",
    "    \"\"\"\n",
    "    try:\n",
    "        r = dns.resolver.Resolver()\n",
    "        # 8.8.8.8 is Google's public DNS server\n",
    "        r.nameservers = ['8.8.8.8']\n",
    "        \n",
    "        result = r.resolve(domain_name, 'NS')\n",
    "    except dns.resolver.NXDOMAIN:\n",
    "        return False\n",
    "    except dns.resolver.NoAnswer:\n",
    "        return False\n",
    "    except dns.resolver.NoNameservers:\n",
    "        return True\n",
    "    except Exception as e:\n",
    "        print(f'Unhandled for {domain_name}')\n",
    "        print(str(e))\n",
    "    else: \n",
    "        return bool(result)\n",
    "\n",
    "def check_domain_avail(domain_to_check):\n",
    "    \"\"\" \n",
    "    Wrapping function for two different domain availability tests\n",
    "    Return true iff the domain is available, i.e. there are *no* records\n",
    "    \"\"\"\n",
    "    \n",
    "    if is_dns_exists(domain_to_check) or is_whois_exists(domain_to_check):\n",
    "        return False\n",
    "    else:\n",
    "        return True"
   ]
  },
  {
   "cell_type": "code",
   "execution_count": null,
   "metadata": {},
   "outputs": [],
   "source": [
    "df['domainAvailability'] = df.domain_to_register_punycode.map(check_domain_avail)"
   ]
  },
  {
   "cell_type": "code",
   "execution_count": null,
   "metadata": {},
   "outputs": [],
   "source": [
    "def check_tld_registerable(tld):\n",
    "    \"\"\"Placeholder for future implementation, should verify whether a TLD is actually open for registration\n",
    "    \"\"\"\n",
    "    return '//TODO'\n",
    "\n",
    "df['tld_registerable'] = df.punycode.map(check_tld_registerable)"
   ]
  },
  {
   "cell_type": "code",
   "execution_count": null,
   "metadata": {},
   "outputs": [],
   "source": [
    "# cleanup of internal state column leftovers\n",
    "df = df.drop(['full_res', 'src_lang_code'], axis=1)"
   ]
  },
  {
   "cell_type": "code",
   "execution_count": 34,
   "metadata": {},
   "outputs": [
    {
     "data": {
      "text/html": [
       "<div>\n",
       "<style scoped>\n",
       "    .dataframe tbody tr th:only-of-type {\n",
       "        vertical-align: middle;\n",
       "    }\n",
       "\n",
       "    .dataframe tbody tr th {\n",
       "        vertical-align: top;\n",
       "    }\n",
       "\n",
       "    .dataframe thead th {\n",
       "        text-align: right;\n",
       "    }\n",
       "</style>\n",
       "<table border=\"1\" class=\"dataframe\">\n",
       "  <thead>\n",
       "    <tr style=\"text-align: right;\">\n",
       "      <th></th>\n",
       "      <th>punycode</th>\n",
       "      <th>unpunycode</th>\n",
       "      <th>full_res</th>\n",
       "      <th>src_lang_code</th>\n",
       "      <th>detectedSourceLanguage</th>\n",
       "      <th>translatedText</th>\n",
       "      <th>translated_target</th>\n",
       "      <th>domain_to_register</th>\n",
       "      <th>domain_to_register_punycode</th>\n",
       "      <th>tld_registerable</th>\n",
       "      <th>domainAvailability</th>\n",
       "    </tr>\n",
       "  </thead>\n",
       "  <tbody>\n",
       "    <tr>\n",
       "      <th>0</th>\n",
       "      <td>XN--11B4C3D</td>\n",
       "      <td>कॉम</td>\n",
       "      <td>{'translatedText': 'com', 'detectedSourceLangu...</td>\n",
       "      <td>{'translatedText': 'com', 'detectedSourceLangu...</td>\n",
       "      <td>hi</td>\n",
       "      <td>com</td>\n",
       "      <td>माइक्रोसॉफ्ट</td>\n",
       "      <td>माइक्रोसॉफ्ट.कॉम</td>\n",
       "      <td>xn--n1b2a4a9bmo0d2bzgsauf.xn--11b4c3d</td>\n",
       "      <td>//TODO</td>\n",
       "      <td>True</td>\n",
       "    </tr>\n",
       "    <tr>\n",
       "      <th>1</th>\n",
       "      <td>XN--1CK2E1B</td>\n",
       "      <td>セール</td>\n",
       "      <td>{'translatedText': 'Sale', 'detectedSourceLang...</td>\n",
       "      <td>{'translatedText': 'Sale', 'detectedSourceLang...</td>\n",
       "      <td>ja</td>\n",
       "      <td>Sale</td>\n",
       "      <td>マイクロソフト</td>\n",
       "      <td>マイクロソフト.セール</td>\n",
       "      <td>xn--eckwa6b3bwd6b6f.xn--1ck2e1b</td>\n",
       "      <td>//TODO</td>\n",
       "      <td>True</td>\n",
       "    </tr>\n",
       "    <tr>\n",
       "      <th>2</th>\n",
       "      <td>XN--1QQW23A</td>\n",
       "      <td>佛山</td>\n",
       "      <td>{'translatedText': 'Foshan', 'detectedSourceLa...</td>\n",
       "      <td>{'translatedText': 'Foshan', 'detectedSourceLa...</td>\n",
       "      <td>zh-CN</td>\n",
       "      <td>Foshan</td>\n",
       "      <td>微软</td>\n",
       "      <td>微软.佛山</td>\n",
       "      <td>xn--g5ty67h.xn--1qqw23a</td>\n",
       "      <td>//TODO</td>\n",
       "      <td>True</td>\n",
       "    </tr>\n",
       "    <tr>\n",
       "      <th>3</th>\n",
       "      <td>XN--2SCRJ9C</td>\n",
       "      <td>ಭಾರತ</td>\n",
       "      <td>{'translatedText': 'India', 'detectedSourceLan...</td>\n",
       "      <td>{'translatedText': 'India', 'detectedSourceLan...</td>\n",
       "      <td>kn</td>\n",
       "      <td>India</td>\n",
       "      <td>ಮೈಕ್ರೋಸಾಫ್ಟ್</td>\n",
       "      <td>ಮೈಕ್ರೋಸಾಫ್ಟ್.ಭಾರತ</td>\n",
       "      <td>xn--nscu9akl2c1bye3asfb.xn--2scrj9c</td>\n",
       "      <td>//TODO</td>\n",
       "      <td>True</td>\n",
       "    </tr>\n",
       "    <tr>\n",
       "      <th>4</th>\n",
       "      <td>XN--30RR7Y</td>\n",
       "      <td>慈善</td>\n",
       "      <td>{'translatedText': 'charitable', 'detectedSour...</td>\n",
       "      <td>{'translatedText': 'charitable', 'detectedSour...</td>\n",
       "      <td>zh-CN</td>\n",
       "      <td>charitable</td>\n",
       "      <td>微软</td>\n",
       "      <td>微软.慈善</td>\n",
       "      <td>xn--g5ty67h.xn--30rr7y</td>\n",
       "      <td>//TODO</td>\n",
       "      <td>True</td>\n",
       "    </tr>\n",
       "    <tr>\n",
       "      <th>...</th>\n",
       "      <td>...</td>\n",
       "      <td>...</td>\n",
       "      <td>...</td>\n",
       "      <td>...</td>\n",
       "      <td>...</td>\n",
       "      <td>...</td>\n",
       "      <td>...</td>\n",
       "      <td>...</td>\n",
       "      <td>...</td>\n",
       "      <td>...</td>\n",
       "      <td>...</td>\n",
       "    </tr>\n",
       "    <tr>\n",
       "      <th>146</th>\n",
       "      <td>XN--XKC2AL3HYE2A</td>\n",
       "      <td>இலங்கை</td>\n",
       "      <td>{'translatedText': 'Sri Lanka', 'detectedSourc...</td>\n",
       "      <td>{'translatedText': 'Sri Lanka', 'detectedSourc...</td>\n",
       "      <td>ta</td>\n",
       "      <td>Sri Lanka</td>\n",
       "      <td>மைக்ரோசாப்ட்</td>\n",
       "      <td>மைக்ரோசாப்ட்.இலங்கை</td>\n",
       "      <td>xn--clckp7brn3h8c3asfb.xn--xkc2al3hye2a</td>\n",
       "      <td>//TODO</td>\n",
       "      <td>True</td>\n",
       "    </tr>\n",
       "    <tr>\n",
       "      <th>147</th>\n",
       "      <td>XN--XKC2DL3A5EE0H</td>\n",
       "      <td>இந்தியா</td>\n",
       "      <td>{'translatedText': 'India', 'detectedSourceLan...</td>\n",
       "      <td>{'translatedText': 'India', 'detectedSourceLan...</td>\n",
       "      <td>ta</td>\n",
       "      <td>India</td>\n",
       "      <td>மைக்ரோசாப்ட்</td>\n",
       "      <td>மைக்ரோசாப்ட்.இந்தியா</td>\n",
       "      <td>xn--clckp7brn3h8c3asfb.xn--xkc2dl3a5ee0h</td>\n",
       "      <td>//TODO</td>\n",
       "      <td>True</td>\n",
       "    </tr>\n",
       "    <tr>\n",
       "      <th>148</th>\n",
       "      <td>XN--Y9A3AQ</td>\n",
       "      <td>հայ</td>\n",
       "      <td>{'translatedText': 'Armenian:', 'detectedSourc...</td>\n",
       "      <td>{'translatedText': 'Armenian:', 'detectedSourc...</td>\n",
       "      <td>hy</td>\n",
       "      <td>Armenian:</td>\n",
       "      <td>Microsoft-ը</td>\n",
       "      <td>translation failure</td>\n",
       "      <td>translation failure</td>\n",
       "      <td>//TODO</td>\n",
       "      <td>True</td>\n",
       "    </tr>\n",
       "    <tr>\n",
       "      <th>149</th>\n",
       "      <td>XN--YFRO4I67O</td>\n",
       "      <td>新加坡</td>\n",
       "      <td>{'translatedText': 'Singapore', 'detectedSourc...</td>\n",
       "      <td>{'translatedText': 'Singapore', 'detectedSourc...</td>\n",
       "      <td>zh-CN</td>\n",
       "      <td>Singapore</td>\n",
       "      <td>微软</td>\n",
       "      <td>微软.新加坡</td>\n",
       "      <td>xn--g5ty67h.xn--yfro4i67o</td>\n",
       "      <td>//TODO</td>\n",
       "      <td>True</td>\n",
       "    </tr>\n",
       "    <tr>\n",
       "      <th>151</th>\n",
       "      <td>XN--ZFR164B</td>\n",
       "      <td>政务</td>\n",
       "      <td>{'translatedText': 'government affairs', 'dete...</td>\n",
       "      <td>{'translatedText': 'government affairs', 'dete...</td>\n",
       "      <td>zh-CN</td>\n",
       "      <td>government affairs</td>\n",
       "      <td>微软</td>\n",
       "      <td>微软.政务</td>\n",
       "      <td>xn--g5ty67h.xn--zfr164b</td>\n",
       "      <td>//TODO</td>\n",
       "      <td>True</td>\n",
       "    </tr>\n",
       "  </tbody>\n",
       "</table>\n",
       "<p>132 rows × 11 columns</p>\n",
       "</div>"
      ],
      "text/plain": [
       "              punycode unpunycode  \\\n",
       "0          XN--11B4C3D        कॉम   \n",
       "1          XN--1CK2E1B        セール   \n",
       "2          XN--1QQW23A         佛山   \n",
       "3          XN--2SCRJ9C       ಭಾರತ   \n",
       "4           XN--30RR7Y         慈善   \n",
       "..                 ...        ...   \n",
       "146   XN--XKC2AL3HYE2A     இலங்கை   \n",
       "147  XN--XKC2DL3A5EE0H    இந்தியா   \n",
       "148         XN--Y9A3AQ        հայ   \n",
       "149      XN--YFRO4I67O        新加坡   \n",
       "151        XN--ZFR164B         政务   \n",
       "\n",
       "                                              full_res  \\\n",
       "0    {'translatedText': 'com', 'detectedSourceLangu...   \n",
       "1    {'translatedText': 'Sale', 'detectedSourceLang...   \n",
       "2    {'translatedText': 'Foshan', 'detectedSourceLa...   \n",
       "3    {'translatedText': 'India', 'detectedSourceLan...   \n",
       "4    {'translatedText': 'charitable', 'detectedSour...   \n",
       "..                                                 ...   \n",
       "146  {'translatedText': 'Sri Lanka', 'detectedSourc...   \n",
       "147  {'translatedText': 'India', 'detectedSourceLan...   \n",
       "148  {'translatedText': 'Armenian:', 'detectedSourc...   \n",
       "149  {'translatedText': 'Singapore', 'detectedSourc...   \n",
       "151  {'translatedText': 'government affairs', 'dete...   \n",
       "\n",
       "                                         src_lang_code detectedSourceLanguage  \\\n",
       "0    {'translatedText': 'com', 'detectedSourceLangu...                     hi   \n",
       "1    {'translatedText': 'Sale', 'detectedSourceLang...                     ja   \n",
       "2    {'translatedText': 'Foshan', 'detectedSourceLa...                  zh-CN   \n",
       "3    {'translatedText': 'India', 'detectedSourceLan...                     kn   \n",
       "4    {'translatedText': 'charitable', 'detectedSour...                  zh-CN   \n",
       "..                                                 ...                    ...   \n",
       "146  {'translatedText': 'Sri Lanka', 'detectedSourc...                     ta   \n",
       "147  {'translatedText': 'India', 'detectedSourceLan...                     ta   \n",
       "148  {'translatedText': 'Armenian:', 'detectedSourc...                     hy   \n",
       "149  {'translatedText': 'Singapore', 'detectedSourc...                  zh-CN   \n",
       "151  {'translatedText': 'government affairs', 'dete...                  zh-CN   \n",
       "\n",
       "         translatedText translated_target    domain_to_register  \\\n",
       "0                   com      माइक्रोसॉफ्ट      माइक्रोसॉफ्ट.कॉम   \n",
       "1                  Sale           マイクロソフト           マイクロソフト.セール   \n",
       "2                Foshan                微软                 微软.佛山   \n",
       "3                 India      ಮೈಕ್ರೋಸಾಫ್ಟ್     ಮೈಕ್ರೋಸಾಫ್ಟ್.ಭಾರತ   \n",
       "4            charitable                微软                 微软.慈善   \n",
       "..                  ...               ...                   ...   \n",
       "146           Sri Lanka      மைக்ரோசாப்ட்   மைக்ரோசாப்ட்.இலங்கை   \n",
       "147               India      மைக்ரோசாப்ட்  மைக்ரோசாப்ட்.இந்தியா   \n",
       "148           Armenian:       Microsoft-ը   translation failure   \n",
       "149           Singapore                微软                微软.新加坡   \n",
       "151  government affairs                微软                 微软.政务   \n",
       "\n",
       "                  domain_to_register_punycode tld_registerable  \\\n",
       "0       xn--n1b2a4a9bmo0d2bzgsauf.xn--11b4c3d           //TODO   \n",
       "1             xn--eckwa6b3bwd6b6f.xn--1ck2e1b           //TODO   \n",
       "2                     xn--g5ty67h.xn--1qqw23a           //TODO   \n",
       "3         xn--nscu9akl2c1bye3asfb.xn--2scrj9c           //TODO   \n",
       "4                      xn--g5ty67h.xn--30rr7y           //TODO   \n",
       "..                                        ...              ...   \n",
       "146   xn--clckp7brn3h8c3asfb.xn--xkc2al3hye2a           //TODO   \n",
       "147  xn--clckp7brn3h8c3asfb.xn--xkc2dl3a5ee0h           //TODO   \n",
       "148                       translation failure           //TODO   \n",
       "149                 xn--g5ty67h.xn--yfro4i67o           //TODO   \n",
       "151                   xn--g5ty67h.xn--zfr164b           //TODO   \n",
       "\n",
       "     domainAvailability  \n",
       "0                  True  \n",
       "1                  True  \n",
       "2                  True  \n",
       "3                  True  \n",
       "4                  True  \n",
       "..                  ...  \n",
       "146                True  \n",
       "147                True  \n",
       "148                True  \n",
       "149                True  \n",
       "151                True  \n",
       "\n",
       "[132 rows x 11 columns]"
      ]
     },
     "execution_count": 34,
     "metadata": {},
     "output_type": "execute_result"
    }
   ],
   "source": [
    "df[df.domainAvailability==True]"
   ]
  },
  {
   "cell_type": "code",
   "execution_count": null,
   "metadata": {
    "id": "zoLA1Dj9jgr4"
   },
   "outputs": [],
   "source": [
    "# export a loadable copy of the dataframe\n",
    "df.to_excel(r'nekuda.xlsx', index=False)"
   ]
  }
 ],
 "metadata": {
  "colab": {
   "provenance": []
  },
  "kernelspec": {
   "display_name": "Python 3 (ipykernel)",
   "language": "python",
   "name": "python3"
  },
  "language_info": {
   "codemirror_mode": {
    "name": "ipython",
    "version": 3
   },
   "file_extension": ".py",
   "mimetype": "text/x-python",
   "name": "python",
   "nbconvert_exporter": "python",
   "pygments_lexer": "ipython3",
   "version": "3.9.6"
  }
 },
 "nbformat": 4,
 "nbformat_minor": 4
}
